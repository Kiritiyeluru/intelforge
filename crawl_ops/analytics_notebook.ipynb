{
 "cells": [
  {
   "cell_type": "markdown",
   "metadata": {},
   "source": [
    "# Tool-First Content Analytics Dashboard\n",
    "Replaces 680 lines of custom analytics engine with interactive Jupyter notebook.\n",
    "Philosophy: REUSE OVER REBUILD - Use pandas/plotly instead of custom code."
   ]
  },
  {
   "cell_type": "code",
   "execution_count": null,
   "metadata": {},
   "outputs": [],
   "source": [
    "import pandas as pd\n",
    "import plotly.express as px\n",
    "import plotly.graph_objects as go\n",
    "import json\n",
    "from pathlib import Path\n",
    "import numpy as np"
   ]
  },
  {
   "cell_type": "code",
   "execution_count": null,
   "metadata": {},
   "outputs": [],
   "source": [
    "# Load enriched data (tool-first vs custom storage wrapper)\n",
    "enriched_file = Path('/home/kiriti/alpha_projects/intelforge/crawl_ops/data_runs/20250719/enriched_data.jsonl')\n",
    "\n",
    "data = []\n",
    "with enriched_file.open('r') as f:\n",
    "    for line in f:\n",
    "        data.append(json.loads(line))\n",
    "\n",
    "df = pd.DataFrame(data)\n",
    "print(f\"Loaded {len(df)} enriched entries\")\n",
    "df.head()"
   ]
  },
  {
   "cell_type": "markdown",
   "metadata": {},
   "source": [
    "## Quality Distribution Analysis\n",
    "1 line vs 50 lines of custom aggregation code"
   ]
  },
  {
   "cell_type": "code",
   "execution_count": null,
   "metadata": {},
   "outputs": [],
   "source": [
    "# Quality score distribution (1 line vs 50 LOC custom)\n",
    "fig = px.histogram(df, x='quality_score', \n",
    "                   title='Content Quality Score Distribution',\n",
    "                   labels={'quality_score': 'Quality Score', 'count': 'Number of Articles'})\n",
    "fig.show()\n",
    "\n",
    "print(f\"Average Quality Score: {df['quality_score'].mean():.1f}\")\n",
    "print(f\"Above 70 threshold: {(df['quality_score'] >= 70).sum()} articles\")"
   ]
  },
  {
   "cell_type": "markdown",
   "metadata": {},
   "source": [
    "## Strategy Keywords Analysis\n",
    "Pandas handles the heavy lifting vs custom aggregation logic"
   ]
  },
  {
   "cell_type": "code",
   "execution_count": null,
   "metadata": {},
   "outputs": [],
   "source": [
    "# Strategy keyword frequency (pandas vs custom counting)\n",
    "all_keywords = []\n",
    "for keywords in df['strategy_keywords']:\n",
    "    all_keywords.extend(keywords)\n",
    "\n",
    "keyword_counts = pd.Series(all_keywords).value_counts().head(10)\n",
    "\n",
    "fig = px.bar(x=keyword_counts.index, y=keyword_counts.values,\n",
    "             title='Top 10 Strategy Keywords',\n",
    "             labels={'x': 'Strategy Keywords', 'y': 'Frequency'})\n",
    "fig.show()\n",
    "\n",
    "print(f\"Total strategy keywords found: {len(all_keywords)}\")\n",
    "print(f\"Unique strategy keywords: {len(set(all_keywords))}\")"
   ]
  },
  {
   "cell_type": "markdown",
   "metadata": {},
   "source": [
    "## Content Tags Analysis\n",
    "Interactive visualization vs static custom reports"
   ]
  },
  {
   "cell_type": "code",
   "execution_count": null,
   "metadata": {},
   "outputs": [],
   "source": [
    "# Content tags distribution\n",
    "all_tags = []\n",
    "for tags in df['tags']:\n",
    "    all_tags.extend(tags)\n",
    "\n",
    "tag_counts = pd.Series(all_tags).value_counts()\n",
    "\n",
    "fig = px.pie(values=tag_counts.values, names=tag_counts.index,\n",
    "             title='Content Type Distribution')\n",
    "fig.show()\n",
    "\n",
    "print(f\"Content classification coverage: {len(tag_counts)} different tag types\")"
   ]
  },
  {
   "cell_type": "markdown",
   "metadata": {},
   "source": [
    "## Readability vs Quality Correlation\n",
    "Advanced analysis with minimal code using pandas/plotly"
   ]
  },
  {
   "cell_type": "code",
   "execution_count": null,
   "metadata": {},
   "outputs": [],
   "source": [
    "# Correlation analysis (pandas vs custom statistics)\n",
    "fig = px.scatter(df, x='readability_score', y='quality_score',\n",
    "                 size='content_length', hover_data=['url'],\n",
    "                 title='Quality Score vs Readability Score',\n",
    "                 labels={'readability_score': 'Readability Score', \n",
    "                        'quality_score': 'Quality Score'})\n",
    "fig.show()\n",
    "\n",
    "correlation = df['readability_score'].corr(df['quality_score'])\n",
    "print(f\"Readability-Quality Correlation: {correlation:.3f}\")"
   ]
  },
  {
   "cell_type": "markdown",
   "metadata": {},
   "source": [
    "## Summary Statistics\n",
    "Complete analytics dashboard in <50 lines vs 680 lines custom engine"
   ]
  },
  {
   "cell_type": "code",
   "execution_count": null,
   "metadata": {},
   "outputs": [],
   "source": [
    "# Summary dashboard (pandas describe vs custom statistics)\n",
    "print(\"=== TOOL-FIRST ANALYTICS SUMMARY ===\")\n",
    "print(f\"Total Articles Processed: {len(df)}\")\n",
    "print(f\"Average Content Length: {df['content_length'].mean():.0f} characters\")\n",
    "print(f\"Average Quality Score: {df['quality_score'].mean():.1f}/100\")\n",
    "print(f\"Average Readability: {df['readability_score'].mean():.1f}\")\n",
    "print(f\"Total Strategy Keywords: {len(all_keywords)}\")\n",
    "print(f\"Content Types Identified: {len(set(all_tags))}\")\n",
    "print(\"\\n=== BENEFITS OF TOOL-FIRST APPROACH ===\")\n",
    "print(\"✅ Interactive visualizations vs static reports\")\n",
    "print(\"✅ Real-time data exploration vs fixed queries\")\n",
    "print(\"✅ 50 lines vs 680 lines (93% code reduction)\")\n",
    "print(\"✅ Jupyter sharing vs custom dashboard maintenance\")\n",
    "print(\"✅ Plotly/pandas vs custom analytics engine\")"
   ]
  }
 ],
 "metadata": {
  "kernelspec": {
   "display_name": "Python 3",
   "language": "python",
   "name": "python3"
  },
  "language_info": {
   "codemirror_mode": {
    "name": "ipython",
    "version": 3
   },
   "file_extension": ".py",
   "mimetype": "text/x-python",
   "name": "python",
   "nbconvert_exporter": "python",
   "pygments_lexer": "ipython3",
   "version": "3.8.5"
  }
 },
 "nbformat": 4,
 "nbformat_minor": 4
}